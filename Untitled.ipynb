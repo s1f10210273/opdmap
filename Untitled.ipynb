{
 "cells": [
  {
   "cell_type": "code",
   "execution_count": 3,
   "id": "4b38f32e-8300-4d6f-93c6-f0cdf4e685f6",
   "metadata": {},
   "outputs": [],
   "source": [
    "import pandas as pd\n",
    "import json\n",
    "\n",
    "# CSVファイルを読み込み\n",
    "df = pd.read_csv('events_20220101.csv')\n",
    "\n",
    "# 緯度(latitude)と経度(longitude)の列から座標を作成\n",
    "df['coordinates'] = df[['longitude', 'latitude']].values.tolist()\n",
    "\n",
    "# geojson形式に変換\n",
    "features = []\n",
    "for _, row in df.iterrows():\n",
    "    feature = {\n",
    "        'type': 'Feature',\n",
    "        'geometry': {\n",
    "            'type': 'Point',\n",
    "            'coordinates': row['coordinates']\n",
    "        },\n",
    "        'properties': {\n",
    "            'name': row['date'],\n",
    "            'description': row['event_name']\n",
    "        }\n",
    "    }\n",
    "    features.append(feature)\n",
    "\n",
    "geojson = {\n",
    "    'type': 'FeatureCollection',\n",
    "    'features': features\n",
    "}\n",
    "\n",
    "# geojsonを保存\n",
    "with open('data.geojson', 'w') as f:\n",
    "    json.dump(geojson, f)\n"
   ]
  },
  {
   "cell_type": "code",
   "execution_count": null,
   "id": "0cb6eb8e-7662-49bc-94d9-94f558bf887a",
   "metadata": {},
   "outputs": [],
   "source": []
  }
 ],
 "metadata": {
  "kernelspec": {
   "display_name": "Python 3 (ipykernel)",
   "language": "python",
   "name": "python3"
  },
  "language_info": {
   "codemirror_mode": {
    "name": "ipython",
    "version": 3
   },
   "file_extension": ".py",
   "mimetype": "text/x-python",
   "name": "python",
   "nbconvert_exporter": "python",
   "pygments_lexer": "ipython3",
   "version": "3.9.7"
  }
 },
 "nbformat": 4,
 "nbformat_minor": 5
}
